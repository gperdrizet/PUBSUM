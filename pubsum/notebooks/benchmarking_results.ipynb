{
 "cells": [
  {
   "attachments": {},
   "cell_type": "markdown",
   "metadata": {},
   "source": [
    "# Benchmarking Results"
   ]
  },
  {
   "cell_type": "code",
   "execution_count": 1,
   "metadata": {},
   "outputs": [],
   "source": [
    "import numpy as np\n",
    "import notebook_helper_functions.plot_functions as plot_funcs"
   ]
  },
  {
   "attachments": {},
   "cell_type": "markdown",
   "metadata": {},
   "source": [
    "### 1. Baseline execute time"
   ]
  },
  {
   "cell_type": "code",
   "execution_count": 2,
   "metadata": {},
   "outputs": [],
   "source": [
    "data, plt = plot_funcs.baseline_execution_plot('../benchmarks/baseline_execute_time/results.csv')\n",
    "\n",
    "plt.show()\n",
    "data.head()\n"
   ]
  },
  {
   "attachments": {},
   "cell_type": "markdown",
   "metadata": {},
   "source": [
    "### 2. Huggingface device map"
   ]
  },
  {
   "cell_type": "code",
   "execution_count": null,
   "metadata": {},
   "outputs": [],
   "source": [
    "data, plt = plot_funcs.device_map_plot('../benchmarks/huggingface_device_map/results.csv')\n",
    "\n",
    "plt.show()\n",
    "data.head()"
   ]
  },
  {
   "attachments": {},
   "cell_type": "markdown",
   "metadata": {},
   "source": [
    "### 3. Parallel summarization"
   ]
  },
  {
   "cell_type": "code",
   "execution_count": null,
   "metadata": {},
   "outputs": [],
   "source": [
    "data, plt = plot_funcs.parallel_summarization_plot('../benchmarks/parallel_summarization/results.csv')\n",
    "\n",
    "plt.show()\n",
    "data.head()"
   ]
  },
  {
   "attachments": {},
   "cell_type": "markdown",
   "metadata": {},
   "source": [
    "### 4. Model quantization"
   ]
  },
  {
   "cell_type": "code",
   "execution_count": null,
   "metadata": {},
   "outputs": [],
   "source": [
    "data, plt = plot_funcs.model_quantization_plot('../benchmarks/model_quantization/results.csv')\n",
    "\n",
    "plt.show()\n",
    "data.head()"
   ]
  },
  {
   "attachments": {},
   "cell_type": "markdown",
   "metadata": {},
   "source": [
    "### 5. Batched summarization"
   ]
  },
  {
   "cell_type": "code",
   "execution_count": null,
   "metadata": {},
   "outputs": [],
   "source": [
    "data, plt = plot_funcs.batch_summarization_plot(\n",
    "    datafile='../benchmarks/batched_summarization/results.1.csv',\n",
    "    unique_condition_columns=[\n",
    "        'batch size',\n",
    "        'quantization'\n",
    "    ],\n",
    "    oom_columns=[\n",
    "        'summarization time (sec.)',\n",
    "        'summarization rate (abstracts/sec.)',\n",
    "        'model memory footprint (bytes)',\n",
    "        'max memory allocated (bytes)'\n",
    "    ], \n",
    "    str_columns=['quantization'], \n",
    "    int_columns=[\n",
    "        'model memory footprint (bytes)',\n",
    "        'max memory allocated (bytes)'\n",
    "    ], \n",
    "    float_columns=[\n",
    "        'summarization time (sec.)',\n",
    "        'summarization rate (abstracts/sec.)'\n",
    "    ],\n",
    "    oom_replacement_val=np.nan\n",
    ")\n",
    "\n",
    "plt.show()\n",
    "data.head()"
   ]
  },
  {
   "cell_type": "code",
   "execution_count": null,
   "metadata": {},
   "outputs": [],
   "source": [
    "data, plt = plot_funcs.batch_summarization_plot(\n",
    "    datafile='../benchmarks/batched_summarization/results.csv',\n",
    "    unique_condition_columns=[\n",
    "        'batch size',\n",
    "        'quantization'\n",
    "    ],\n",
    "    oom_columns=[\n",
    "        'summarization time (sec.)',\n",
    "        'summarization rate (abstracts/sec.)',\n",
    "        'model memory footprint (bytes)',\n",
    "        'max memory allocated (bytes)'\n",
    "    ], \n",
    "    str_columns=['quantization'], \n",
    "    int_columns=[\n",
    "        'model memory footprint (bytes)',\n",
    "        'max memory allocated (bytes)'\n",
    "    ], \n",
    "    float_columns=[\n",
    "        'summarization time (sec.)',\n",
    "        'summarization rate (abstracts/sec.)'\n",
    "    ],\n",
    "    oom_replacement_val=np.nan\n",
    ")\n",
    "\n",
    "plt.show()\n",
    "data"
   ]
  },
  {
   "attachments": {},
   "cell_type": "markdown",
   "metadata": {},
   "source": [
    "### 5. Parallel batched summarization"
   ]
  },
  {
   "cell_type": "code",
   "execution_count": null,
   "metadata": {},
   "outputs": [],
   "source": [
    "data, plt = plot_funcs.parallel_batched_summarization_plot('../benchmarks/parallel_batched_summarization/results.csv')\n",
    "\n",
    "plt.show()\n",
    "data.head()"
   ]
  },
  {
   "attachments": {},
   "cell_type": "markdown",
   "metadata": {},
   "source": [
    "### 6. SQL Insert"
   ]
  },
  {
   "cell_type": "code",
   "execution_count": null,
   "metadata": {},
   "outputs": [],
   "source": [
    "data, plt = plot_funcs.sql_insert_plot('../benchmarks/sql_insert/results.csv')\n",
    "\n",
    "plt.show()\n",
    "data.head()"
   ]
  },
  {
   "cell_type": "code",
   "execution_count": null,
   "metadata": {},
   "outputs": [],
   "source": [
    "total_secs = 3580000 * 15\n",
    "total_mins = total_secs / 60\n",
    "total_hrs = total_mins / 60\n",
    "total_unoptimized_days = total_hrs / 24\n",
    "print(f'Estimated total summarization time, before optimization: {round(total_unoptimized_days, 0)} days.')\n",
    "\n",
    "total_mins = 3580000 * (1/80)\n",
    "total_hrs = total_mins / 60\n",
    "total_optimized_days = total_hrs / 24\n",
    "print(f'Estimated total summarization time, after optimization: {round(total_optimized_days, 0)} days.')\n",
    "\n",
    "print(f'\\nTotal speed-up: {round(total_unoptimized_days / total_optimized_days, 0)} fold.')"
   ]
  }
 ],
 "metadata": {
  "kernelspec": {
   "display_name": ".env",
   "language": "python",
   "name": "python3"
  },
  "language_info": {
   "codemirror_mode": {
    "name": "ipython",
    "version": 3
   },
   "file_extension": ".py",
   "mimetype": "text/x-python",
   "name": "python",
   "nbconvert_exporter": "python",
   "pygments_lexer": "ipython3",
   "version": "3.10.12"
  },
  "orig_nbformat": 4,
  "vscode": {
   "interpreter": {
    "hash": "b2bfdbcafe1bd88aec0db7499326d0fdf717c095a6b058d4daf3cafc7f724b8f"
   }
  }
 },
 "nbformat": 4,
 "nbformat_minor": 2
}
