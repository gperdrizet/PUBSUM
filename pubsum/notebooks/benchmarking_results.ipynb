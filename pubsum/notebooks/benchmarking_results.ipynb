{
 "cells": [
  {
   "attachments": {},
   "cell_type": "markdown",
   "metadata": {},
   "source": [
    "# Benchmarking Results"
   ]
  },
  {
   "cell_type": "code",
   "execution_count": 1,
   "metadata": {},
   "outputs": [],
   "source": [
    "import pandas as pd"
   ]
  },
  {
   "attachments": {},
   "cell_type": "markdown",
   "metadata": {},
   "source": [
    "### 1. Load, Summarize, Insert"
   ]
  },
  {
   "cell_type": "code",
   "execution_count": 2,
   "metadata": {},
   "outputs": [
    {
     "data": {
      "text/html": [
       "<div>\n",
       "<style scoped>\n",
       "    .dataframe tbody tr th:only-of-type {\n",
       "        vertical-align: middle;\n",
       "    }\n",
       "\n",
       "    .dataframe tbody tr th {\n",
       "        vertical-align: top;\n",
       "    }\n",
       "\n",
       "    .dataframe thead th {\n",
       "        text-align: right;\n",
       "    }\n",
       "</style>\n",
       "<table border=\"1\" class=\"dataframe\">\n",
       "  <thead>\n",
       "    <tr style=\"text-align: right;\">\n",
       "      <th></th>\n",
       "      <th>replicate</th>\n",
       "      <th>num_abstracts</th>\n",
       "      <th>total_replicate_time</th>\n",
       "      <th>total_summarization_time</th>\n",
       "      <th>total_insert_time</th>\n",
       "      <th>total_loading_time</th>\n",
       "      <th>mean_total_time</th>\n",
       "      <th>mean_summarization_time</th>\n",
       "      <th>mean_insert_time</th>\n",
       "      <th>mean_loading_time</th>\n",
       "    </tr>\n",
       "  </thead>\n",
       "  <tbody>\n",
       "    <tr>\n",
       "      <th>0</th>\n",
       "      <td>1</td>\n",
       "      <td>5</td>\n",
       "      <td>46.017187</td>\n",
       "      <td>45.617424</td>\n",
       "      <td>0.399505</td>\n",
       "      <td>0.000258</td>\n",
       "      <td>9.203437</td>\n",
       "      <td>9.123485</td>\n",
       "      <td>0.079901</td>\n",
       "      <td>0.000052</td>\n",
       "    </tr>\n",
       "    <tr>\n",
       "      <th>1</th>\n",
       "      <td>2</td>\n",
       "      <td>5</td>\n",
       "      <td>69.757739</td>\n",
       "      <td>69.402214</td>\n",
       "      <td>0.355265</td>\n",
       "      <td>0.000259</td>\n",
       "      <td>13.951548</td>\n",
       "      <td>13.880443</td>\n",
       "      <td>0.071053</td>\n",
       "      <td>0.000052</td>\n",
       "    </tr>\n",
       "    <tr>\n",
       "      <th>2</th>\n",
       "      <td>3</td>\n",
       "      <td>5</td>\n",
       "      <td>59.380586</td>\n",
       "      <td>58.939484</td>\n",
       "      <td>0.440871</td>\n",
       "      <td>0.000232</td>\n",
       "      <td>11.876117</td>\n",
       "      <td>11.787897</td>\n",
       "      <td>0.088174</td>\n",
       "      <td>0.000046</td>\n",
       "    </tr>\n",
       "    <tr>\n",
       "      <th>3</th>\n",
       "      <td>4</td>\n",
       "      <td>5</td>\n",
       "      <td>71.140245</td>\n",
       "      <td>70.719397</td>\n",
       "      <td>0.420602</td>\n",
       "      <td>0.000246</td>\n",
       "      <td>14.228049</td>\n",
       "      <td>14.143879</td>\n",
       "      <td>0.084120</td>\n",
       "      <td>0.000049</td>\n",
       "    </tr>\n",
       "    <tr>\n",
       "      <th>4</th>\n",
       "      <td>5</td>\n",
       "      <td>5</td>\n",
       "      <td>51.084247</td>\n",
       "      <td>50.722499</td>\n",
       "      <td>0.361550</td>\n",
       "      <td>0.000198</td>\n",
       "      <td>10.216849</td>\n",
       "      <td>10.144500</td>\n",
       "      <td>0.072310</td>\n",
       "      <td>0.000040</td>\n",
       "    </tr>\n",
       "  </tbody>\n",
       "</table>\n",
       "</div>"
      ],
      "text/plain": [
       "   replicate  num_abstracts  total_replicate_time  total_summarization_time  \\\n",
       "0          1              5             46.017187                 45.617424   \n",
       "1          2              5             69.757739                 69.402214   \n",
       "2          3              5             59.380586                 58.939484   \n",
       "3          4              5             71.140245                 70.719397   \n",
       "4          5              5             51.084247                 50.722499   \n",
       "\n",
       "   total_insert_time  total_loading_time  mean_total_time  \\\n",
       "0           0.399505            0.000258         9.203437   \n",
       "1           0.355265            0.000259        13.951548   \n",
       "2           0.440871            0.000232        11.876117   \n",
       "3           0.420602            0.000246        14.228049   \n",
       "4           0.361550            0.000198        10.216849   \n",
       "\n",
       "   mean_summarization_time  mean_insert_time  mean_loading_time  \n",
       "0                 9.123485          0.079901           0.000052  \n",
       "1                13.880443          0.071053           0.000052  \n",
       "2                11.787897          0.088174           0.000046  \n",
       "3                14.143879          0.084120           0.000049  \n",
       "4                10.144500          0.072310           0.000040  "
      ]
     },
     "execution_count": 2,
     "metadata": {},
     "output_type": "execute_result"
    }
   ],
   "source": [
    "data = pd.read_csv('../benchmarks/load_summarize_insert/results.csv')\n",
    "data.head()"
   ]
  },
  {
   "attachments": {},
   "cell_type": "markdown",
   "metadata": {},
   "source": [
    "### 2. Huggingface Device Map"
   ]
  },
  {
   "cell_type": "code",
   "execution_count": 3,
   "metadata": {},
   "outputs": [
    {
     "data": {
      "text/html": [
       "<div>\n",
       "<style scoped>\n",
       "    .dataframe tbody tr th:only-of-type {\n",
       "        vertical-align: middle;\n",
       "    }\n",
       "\n",
       "    .dataframe tbody tr th {\n",
       "        vertical-align: top;\n",
       "    }\n",
       "\n",
       "    .dataframe thead th {\n",
       "        text-align: right;\n",
       "    }\n",
       "</style>\n",
       "<table border=\"1\" class=\"dataframe\">\n",
       "  <thead>\n",
       "    <tr style=\"text-align: right;\">\n",
       "      <th></th>\n",
       "      <th>abstract_num</th>\n",
       "      <th>summarization_time</th>\n",
       "      <th>device_map_strategy</th>\n",
       "    </tr>\n",
       "  </thead>\n",
       "  <tbody>\n",
       "    <tr>\n",
       "      <th>0</th>\n",
       "      <td>1</td>\n",
       "      <td>14.629446</td>\n",
       "      <td>CPU only</td>\n",
       "    </tr>\n",
       "    <tr>\n",
       "      <th>1</th>\n",
       "      <td>2</td>\n",
       "      <td>16.952201</td>\n",
       "      <td>CPU only</td>\n",
       "    </tr>\n",
       "    <tr>\n",
       "      <th>2</th>\n",
       "      <td>3</td>\n",
       "      <td>10.698561</td>\n",
       "      <td>CPU only</td>\n",
       "    </tr>\n",
       "    <tr>\n",
       "      <th>3</th>\n",
       "      <td>4</td>\n",
       "      <td>13.310327</td>\n",
       "      <td>CPU only</td>\n",
       "    </tr>\n",
       "    <tr>\n",
       "      <th>4</th>\n",
       "      <td>5</td>\n",
       "      <td>14.418210</td>\n",
       "      <td>CPU only</td>\n",
       "    </tr>\n",
       "  </tbody>\n",
       "</table>\n",
       "</div>"
      ],
      "text/plain": [
       "   abstract_num  summarization_time device_map_strategy\n",
       "0             1           14.629446            CPU only\n",
       "1             2           16.952201            CPU only\n",
       "2             3           10.698561            CPU only\n",
       "3             4           13.310327            CPU only\n",
       "4             5           14.418210            CPU only"
      ]
     },
     "execution_count": 3,
     "metadata": {},
     "output_type": "execute_result"
    }
   ],
   "source": [
    "data = pd.read_csv('../benchmarks/huggingface_device_map/results.csv')\n",
    "data.head()"
   ]
  },
  {
   "attachments": {},
   "cell_type": "markdown",
   "metadata": {},
   "source": [
    "### 3. Parallel Summarization"
   ]
  },
  {
   "cell_type": "code",
   "execution_count": 4,
   "metadata": {},
   "outputs": [
    {
     "data": {
      "text/html": [
       "<div>\n",
       "<style scoped>\n",
       "    .dataframe tbody tr th:only-of-type {\n",
       "        vertical-align: middle;\n",
       "    }\n",
       "\n",
       "    .dataframe tbody tr th {\n",
       "        vertical-align: top;\n",
       "    }\n",
       "\n",
       "    .dataframe thead th {\n",
       "        text-align: right;\n",
       "    }\n",
       "</style>\n",
       "<table border=\"1\" class=\"dataframe\">\n",
       "  <thead>\n",
       "    <tr style=\"text-align: right;\">\n",
       "      <th></th>\n",
       "      <th>num_jobs</th>\n",
       "      <th>device_map_strategy</th>\n",
       "      <th>summarization_time</th>\n",
       "    </tr>\n",
       "  </thead>\n",
       "  <tbody>\n",
       "    <tr>\n",
       "      <th>0</th>\n",
       "      <td>4</td>\n",
       "      <td>GPU</td>\n",
       "      <td>296.744658</td>\n",
       "    </tr>\n",
       "    <tr>\n",
       "      <th>1</th>\n",
       "      <td>8</td>\n",
       "      <td>GPU</td>\n",
       "      <td>161.350356</td>\n",
       "    </tr>\n",
       "    <tr>\n",
       "      <th>2</th>\n",
       "      <td>12</td>\n",
       "      <td>GPU</td>\n",
       "      <td>152.624606</td>\n",
       "    </tr>\n",
       "    <tr>\n",
       "      <th>3</th>\n",
       "      <td>1</td>\n",
       "      <td>CPU physical cores only</td>\n",
       "      <td>1852.936123</td>\n",
       "    </tr>\n",
       "    <tr>\n",
       "      <th>4</th>\n",
       "      <td>2</td>\n",
       "      <td>CPU physical cores only</td>\n",
       "      <td>1196.622907</td>\n",
       "    </tr>\n",
       "  </tbody>\n",
       "</table>\n",
       "</div>"
      ],
      "text/plain": [
       "   num_jobs      device_map_strategy  summarization_time\n",
       "0         4                      GPU          296.744658\n",
       "1         8                      GPU          161.350356\n",
       "2        12                      GPU          152.624606\n",
       "3         1  CPU physical cores only         1852.936123\n",
       "4         2  CPU physical cores only         1196.622907"
      ]
     },
     "execution_count": 4,
     "metadata": {},
     "output_type": "execute_result"
    }
   ],
   "source": [
    "data = pd.read_csv('../benchmarks/parallel_summarize/results.csv')\n",
    "data.head()"
   ]
  },
  {
   "attachments": {},
   "cell_type": "markdown",
   "metadata": {},
   "source": [
    "### 4. SQL Insert"
   ]
  },
  {
   "cell_type": "code",
   "execution_count": 5,
   "metadata": {},
   "outputs": [
    {
     "data": {
      "text/html": [
       "<div>\n",
       "<style scoped>\n",
       "    .dataframe tbody tr th:only-of-type {\n",
       "        vertical-align: middle;\n",
       "    }\n",
       "\n",
       "    .dataframe tbody tr th {\n",
       "        vertical-align: top;\n",
       "    }\n",
       "\n",
       "    .dataframe thead th {\n",
       "        text-align: right;\n",
       "    }\n",
       "</style>\n",
       "<table border=\"1\" class=\"dataframe\">\n",
       "  <thead>\n",
       "    <tr style=\"text-align: right;\">\n",
       "      <th></th>\n",
       "      <th>num_abstracts</th>\n",
       "      <th>insert_time</th>\n",
       "      <th>insert_strategy</th>\n",
       "      <th>replicate</th>\n",
       "    </tr>\n",
       "  </thead>\n",
       "  <tbody>\n",
       "    <tr>\n",
       "      <th>0</th>\n",
       "      <td>10000</td>\n",
       "      <td>4.258317</td>\n",
       "      <td>execute_many</td>\n",
       "      <td>1</td>\n",
       "    </tr>\n",
       "    <tr>\n",
       "      <th>1</th>\n",
       "      <td>10000</td>\n",
       "      <td>4.022138</td>\n",
       "      <td>execute_many</td>\n",
       "      <td>2</td>\n",
       "    </tr>\n",
       "    <tr>\n",
       "      <th>2</th>\n",
       "      <td>10000</td>\n",
       "      <td>4.073744</td>\n",
       "      <td>execute_many</td>\n",
       "      <td>3</td>\n",
       "    </tr>\n",
       "    <tr>\n",
       "      <th>3</th>\n",
       "      <td>10000</td>\n",
       "      <td>4.109033</td>\n",
       "      <td>execute_many</td>\n",
       "      <td>4</td>\n",
       "    </tr>\n",
       "    <tr>\n",
       "      <th>4</th>\n",
       "      <td>10000</td>\n",
       "      <td>4.187685</td>\n",
       "      <td>execute_many</td>\n",
       "      <td>5</td>\n",
       "    </tr>\n",
       "  </tbody>\n",
       "</table>\n",
       "</div>"
      ],
      "text/plain": [
       "   num_abstracts  insert_time insert_strategy  replicate\n",
       "0          10000     4.258317    execute_many          1\n",
       "1          10000     4.022138    execute_many          2\n",
       "2          10000     4.073744    execute_many          3\n",
       "3          10000     4.109033    execute_many          4\n",
       "4          10000     4.187685    execute_many          5"
      ]
     },
     "execution_count": 5,
     "metadata": {},
     "output_type": "execute_result"
    }
   ],
   "source": [
    "data = pd.read_csv('../benchmarks/sql_insert/results.csv')\n",
    "data.head()"
   ]
  }
 ],
 "metadata": {
  "kernelspec": {
   "display_name": ".env",
   "language": "python",
   "name": "python3"
  },
  "language_info": {
   "codemirror_mode": {
    "name": "ipython",
    "version": 3
   },
   "file_extension": ".py",
   "mimetype": "text/x-python",
   "name": "python",
   "nbconvert_exporter": "python",
   "pygments_lexer": "ipython3",
   "version": "3.8.10"
  },
  "orig_nbformat": 4,
  "vscode": {
   "interpreter": {
    "hash": "b2bfdbcafe1bd88aec0db7499326d0fdf717c095a6b058d4daf3cafc7f724b8f"
   }
  }
 },
 "nbformat": 4,
 "nbformat_minor": 2
}
